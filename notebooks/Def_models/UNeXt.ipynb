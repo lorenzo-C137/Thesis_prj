{
 "cells": [
  {
   "cell_type": "code",
   "execution_count": null,
   "metadata": {},
   "outputs": [],
   "source": [
    "# setting the Thesis project folder as working directory\n",
    "%cd \"../..\""
   ]
  },
  {
   "cell_type": "markdown",
   "metadata": {},
   "source": [
    "# Import packages"
   ]
  },
  {
   "cell_type": "code",
   "execution_count": null,
   "metadata": {},
   "outputs": [],
   "source": [
    "import random\n",
    "import tensorflow as tf\n",
    "import numpy as np\n",
    "\n",
    "import tensorflow.keras.layers as tfkl\n",
    "import tensorflow.keras as tfk \n",
    "from tensorflow.keras.layers import Conv2D\n",
    "from tensorflow.keras.layers import Input\n",
    "from tensorflow.keras import Model\n",
    "from tensorflow.keras.layers import MaxPooling2D\n",
    "from tensorflow.keras.layers import Conv2DTranspose\n",
    "from tensorflow.keras.layers import concatenate\n",
    "from tensorflow.keras.preprocessing.image import ImageDataGenerator"
   ]
  },
  {
   "cell_type": "markdown",
   "metadata": {},
   "source": [
    "## UNeXt"
   ]
  },
  {
   "cell_type": "code",
   "execution_count": null,
   "metadata": {},
   "outputs": [],
   "source": [
    "class UNeXt():\n",
    "    def __init__(self, input_shape, activ_encod = 'gelu', activ_decod='gelu', activ_out='sigmoid', kern_init='HeUniform'):\n",
    "        # define activation functions\n",
    "        self.activ_encod = activ_encod\n",
    "        self.activ_decod = activ_decod\n",
    "        self.activ_out = activ_out\n",
    "\n",
    "        # define kernel initializer\n",
    "        self.kern_init = kern_init\n",
    "\n",
    "        # layer to be used in the tfk.Model\n",
    "        self.input = tfkl.Input(input_shape)\n",
    "\n",
    "        # layer to be used in the network creation\n",
    "        self.encoder = self.input\n",
    "        self.decoder = None\n",
    "        \n",
    "        # list where I save all conv layers that will be concatenated through\n",
    "        # the skip connection. This will contain the 2 list of the pool layers\n",
    "        # of the 2 encoders\n",
    "        self.pool_layers_list = []\n",
    "\n",
    "    def Down_Conv_block(self, inp, filters, encoder, activ):\n",
    "        conv1 = tfkl.Conv2D(filters=filters, kernel_size=7, strides=1, padding='same', activation=None, kernel_initializer=self.kern_init)(inp)\n",
    "        conv2 = tfkl.Conv2D(filters=filters*4, kernel_size=1, strides=1, padding='same', activation=activ, kernel_initializer=self.kern_init)(conv1)\n",
    "        conv3 = tfkl.Conv2D(filters=filters, kernel_size=1, strides=1, padding='same', activation=None, kernel_initializer=self.kern_init)(conv2)\n",
    "        sum_4 = tfkl.Add()([conv1, conv3])\n",
    "        pool = tfkl.MaxPool2D(pool_size=(2, 2), strides=2)(sum_4)\n",
    "        self.pool_layers_list.append(sum_4)\n",
    "        return pool\n",
    "\n",
    "    def Up_Conv_block(self, inp, filters, respective_down_layer, activ):      \n",
    "        conv1 = tfkl.Conv2D(filters=filters, kernel_size=7, strides=1, padding='same', activation=None, kernel_initializer=self.kern_init)(inp)\n",
    "        conv2 = tfkl.Conv2D(filters=filters*4, kernel_size=1, strides=1, padding='same', activation=activ, kernel_initializer=self.kern_init)(conv1)\n",
    "        conv3 = tfkl.Conv2D(filters=filters, kernel_size=1, strides=1, padding='same', activation=None, kernel_initializer=self.kern_init)(conv2)\n",
    "        sum_4 = tfkl.Add()([conv1, conv3])\n",
    "        up_conv = tfkl.Conv2DTranspose(filters=filters//2, kernel_size=2, strides=2, padding='same')(sum_4)\n",
    "        concat = tfkl.Concatenate()([respective_down_layer, up_conv])\n",
    "        \n",
    "        return concat\n",
    "\n",
    "\n",
    "    def build_model(self, filters_list):\n",
    "\n",
    "        # Encoder \n",
    "        for i, filters in enumerate(filters_list[:-1]):\n",
    "            self.encoder = self.Down_Conv_block(self.encoder, filters, encoder=0, activ=self.activ_encod)\n",
    "\n",
    "        # reverse the list of layers to give to the encoder in the right order\n",
    "        rev_list = self.pool_layers_list[::-1]\n",
    "\n",
    "        # set the starting layer of the decoder\n",
    "        self.decoder = self.encoder\n",
    "\n",
    "        # Decoder\n",
    "        for i, filters in enumerate(filters_list[:-len(filters_list):-1]):\n",
    "            self.decoder = self.Up_Conv_block(self.decoder, filters, rev_list[i], activ=self.activ_decod)\n",
    "        \n",
    "        # first convolutions of filters_list\n",
    "        layer = tfkl.Conv2D(filters=filters_list[0], kernel_size=3, strides=1, padding='same', activation=self.activ_decod, kernel_initializer=self.kern_init)(self.decoder)\n",
    "        layer = tfkl.Conv2D(filters=filters_list[0], kernel_size=3, strides=1, padding='same', activation=self.activ_decod, kernel_initializer=self.kern_init)(layer)\n",
    "\n",
    "        # output\n",
    "        out = tfkl.Conv2D(filters=1, kernel_size=3, strides=1, padding='same', activation=self.activ_out, kernel_initializer=self.kern_init)(layer)\n",
    "\n",
    "        model = tfk.Model(inputs=[self.input], outputs=out)\n",
    "\n",
    "        return model"
   ]
  },
  {
   "cell_type": "code",
   "execution_count": null,
   "metadata": {},
   "outputs": [],
   "source": [
    "input_shape = (None, None, 1)\n",
    "filters = [8, 16, 32, 64, 128]"
   ]
  },
  {
   "cell_type": "code",
   "execution_count": null,
   "metadata": {},
   "outputs": [],
   "source": [
    "model = UNeXt(input_shape).build_model(filters)"
   ]
  },
  {
   "cell_type": "code",
   "execution_count": null,
   "metadata": {},
   "outputs": [],
   "source": [
    "model.summary()"
   ]
  },
  {
   "cell_type": "code",
   "execution_count": null,
   "metadata": {},
   "outputs": [],
   "source": []
  }
 ],
 "metadata": {
  "interpreter": {
   "hash": "81794d4967e6c3204c66dcd87b604927b115b27c00565d3d43f05ba2f3a2cb0d"
  },
  "kernelspec": {
   "display_name": "Python 3.9.7 64-bit",
   "language": "python",
   "name": "python3"
  },
  "language_info": {
   "codemirror_mode": {
    "name": "ipython",
    "version": 3
   },
   "file_extension": ".py",
   "mimetype": "text/x-python",
   "name": "python",
   "nbconvert_exporter": "python",
   "pygments_lexer": "ipython3",
   "version": "3.9.7"
  },
  "orig_nbformat": 4
 },
 "nbformat": 4,
 "nbformat_minor": 2
}
